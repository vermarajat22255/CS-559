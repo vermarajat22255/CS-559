{
 "cells": [
  {
   "cell_type": "code",
   "execution_count": 31,
   "metadata": {},
   "outputs": [
    {
     "name": "stdout",
     "output_type": "stream",
     "text": [
      "accuracy  100.0\n"
     ]
    }
   ],
   "source": [
    "import pandas as pd\n",
    "import numpy as np\n",
    "import random as rd\n",
    "import statistics\n",
    "from sklearn.metrics import accuracy_score\n",
    "\n",
    "X=np.array([[1,1,-1,0,2],\n",
    "[0,0,1,2,0],\n",
    "[-1,-1,1,1,0],\n",
    "[4,0,1,2,1],\n",
    "[-1,1,1,1,0],\n",
    "[-1,-1,-1,1,0],\n",
    "[-1,1,1,2,1]]);\n",
    "\n",
    "Y=np.array([2,1,2,1,1,1,2]);\n",
    "start = np.array([3,1,1,-12,-7]);\n",
    "f = np.dot(X,start);\n",
    "\n",
    "step=1\n",
    "w=start\n",
    "for i in range(20):\n",
    "    y_dash=0\n",
    "    for i in range(0,len(X)):\n",
    "        f=np.dot(X[i],w)\n",
    "        y_dash = 2 if (f>0) else 1\n",
    "        y_hat[i]=y_dash;\n",
    "        for j in range(0, len(w)):  \n",
    "            w[j] = w[j] + step*(Y[i]-y_dash)*X[i][j]\n",
    "            \n",
    "print(\"accuracy \",accuracy_score(y_hat,Y)*100);"
   ]
  },
  {
   "cell_type": "code",
   "execution_count": null,
   "metadata": {},
   "outputs": [],
   "source": []
  }
 ],
 "metadata": {
  "kernelspec": {
   "display_name": "Python 3",
   "language": "python",
   "name": "python3"
  },
  "language_info": {
   "codemirror_mode": {
    "name": "ipython",
    "version": 3
   },
   "file_extension": ".py",
   "mimetype": "text/x-python",
   "name": "python",
   "nbconvert_exporter": "python",
   "pygments_lexer": "ipython3",
   "version": "3.7.3"
  }
 },
 "nbformat": 4,
 "nbformat_minor": 2
}
