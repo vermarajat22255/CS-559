{
 "cells": [
  {
   "cell_type": "code",
   "execution_count": 48,
   "metadata": {},
   "outputs": [
    {
     "name": "stdout",
     "output_type": "stream",
     "text": [
      "within class variance  [[17.6   2.55]\n",
      " [ 2.55 14.  ]]\n",
      "between class variance  [[98.6 26.8]\n",
      " [26.8  8. ]]\n"
     ]
    }
   ],
   "source": [
    "import pandas as pd\n",
    "import numpy as np\n",
    "import random as rd\n",
    "import numpy as np\n",
    "from sklearn.discriminant_analysis import LinearDiscriminantAnalysis as lda\n",
    "\n",
    "d1 = np.array([[-2,1], [-5,-4], [-3,1], [0,-3], [-8,-1]])\n",
    "y1 = [1,1,1,1,1];\n",
    "d2 = np.array([[2,5], [1,0], [5,-1], [-1,-3], [6,1]])\n",
    "y2 = [2,2,2,2,2];\n",
    "n1 = 5;\n",
    "n2 = 5;\n",
    "x = np.array([[-2,1], [-5,-4], [-3,1], [0,-3], [-8,-1], [2,5], [1,0], [5,-1], [-1,-3], [6,1] ])\n",
    "y = y1+y2;\n",
    "\n",
    "mu1=np.mean(d1.T,axis=1).reshape((2,1))\n",
    "mu2=np.mean(d2.T,axis=1).reshape((2,1))\n",
    "mu=np.mean((mu1+mu2),axis=1).reshape((2,1))\n",
    "\n",
    "withinClass = np.cov(d1.T)+np.cov(d2.T)\n",
    "print(\"within class variance \",withinClass)\n",
    "\n",
    "betweenClass = 5*((mu1-mu)*(mu1-mu).T)+5*((mu2-mu)*(mu2-mu).T);\n",
    "\n",
    "print(\"between class variance \",betweenClass)\n",
    "\n",
    "lda().fit(x, y);"
   ]
  },
  {
   "cell_type": "code",
   "execution_count": null,
   "metadata": {},
   "outputs": [],
   "source": []
  }
 ],
 "metadata": {
  "kernelspec": {
   "display_name": "Python 3",
   "language": "python",
   "name": "python3"
  },
  "language_info": {
   "codemirror_mode": {
    "name": "ipython",
    "version": 3
   },
   "file_extension": ".py",
   "mimetype": "text/x-python",
   "name": "python",
   "nbconvert_exporter": "python",
   "pygments_lexer": "ipython3",
   "version": "3.7.3"
  }
 },
 "nbformat": 4,
 "nbformat_minor": 2
}
