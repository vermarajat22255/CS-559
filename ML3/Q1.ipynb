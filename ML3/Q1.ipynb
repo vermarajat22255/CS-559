{
 "cells": [
  {
   "cell_type": "code",
   "execution_count": 33,
   "metadata": {},
   "outputs": [
    {
     "name": "stdout",
     "output_type": "stream",
     "text": [
      "Mean Accuracy  0.7302083333333333\n",
      "Mean Stdev  0.014061428285636514\n"
     ]
    }
   ],
   "source": [
    "import pandas as pd\n",
    "import numpy as np\n",
    "import random as rd\n",
    "from sklearn.naive_bayes import GaussianNB\n",
    "from sklearn.model_selection import train_test_split\n",
    "from sklearn.preprocessing import StandardScaler\n",
    "import statistics\n",
    "import math\n",
    "\n",
    "\n",
    "def PCA(data):\n",
    "    #Calculating Eigen values and Eigen vectors \n",
    "    values,vectors=np.linalg.eig(data.cov())\n",
    "    # binding values and vector in a tuple\n",
    "    eig_pairs = [(np.abs(values[i]), vectors[:,i]) for i in range(len(values))]\n",
    "    #soring according to larger Eigen Values\n",
    "    eig_pairs.sort(key=lambda x: x[0], reverse=True)\n",
    "    # Variance explaied \n",
    "    var_exp = [(i / sum(values))*100 for i in sorted(values, reverse=True)]\n",
    "    variance_exp=np.cumsum(var_exp)\n",
    "    return eig_pairs,variance_exp\n",
    "\n",
    "def PCA_transform(data,eig_pairs,k):\n",
    "    W=[]\n",
    "    for i in range(k):\n",
    "        W.append(eig_pairs[i][1])\n",
    "    W=np.array(W)\n",
    "    return np.dot(data,W.T)\n",
    "    \n",
    "data  = pd.read_csv(\"pima-indians-diabetes.csv\",skiprows=9,header=None);\n",
    "x = data.iloc[:,0:8];\n",
    "y = data.iloc[:,-1];\n",
    "    \n",
    "scaler = StandardScaler();\n",
    "x = pd.DataFrame(scaler.fit_transform(x));\n",
    "\n",
    "eig_pair, var = PCA(x);\n",
    "#print(var);\n",
    "xtrans = PCA_transform(x,eig_pair,3);\n",
    "#print(xtrans);\n",
    "acc = [];\n",
    "for i in range(10):\n",
    "    x_train,x_test,y_train,y_test = train_test_split(xtrans,y,test_size=0.5);\n",
    "    MLE =  GaussianNB();\n",
    "    MLE.fit(x_train,y_train);\n",
    "    acc.append(MLE.score(x_test,y_test));\n",
    "print(\"Mean Accuracy \",statistics.mean(acc));\n",
    "print(\"Mean Stdev \",statistics.stdev(acc));\n",
    "    "
   ]
  },
  {
   "cell_type": "code",
   "execution_count": null,
   "metadata": {},
   "outputs": [],
   "source": []
  }
 ],
 "metadata": {
  "kernelspec": {
   "display_name": "Python 3",
   "language": "python",
   "name": "python3"
  },
  "language_info": {
   "codemirror_mode": {
    "name": "ipython",
    "version": 3
   },
   "file_extension": ".py",
   "mimetype": "text/x-python",
   "name": "python",
   "nbconvert_exporter": "python",
   "pygments_lexer": "ipython3",
   "version": "3.7.3"
  }
 },
 "nbformat": 4,
 "nbformat_minor": 2
}
