{
 "cells": [
  {
   "cell_type": "code",
   "execution_count": 17,
   "metadata": {},
   "outputs": [
    {
     "name": "stdout",
     "output_type": "stream",
     "text": [
      "Mean Accuracy  0.7765624999999999\n",
      "Mean Stdev  0.01700148357270152\n"
     ]
    }
   ],
   "source": [
    "import pandas as pd\n",
    "import numpy as np\n",
    "import random as rd\n",
    "from sklearn.naive_bayes import GaussianNB\n",
    "from sklearn.model_selection import train_test_split\n",
    "from sklearn.discriminant_analysis import LinearDiscriminantAnalysis\n",
    "import statistics\n",
    "lda = LinearDiscriminantAnalysis()\n",
    "\n",
    "data  = pd.read_csv(\"pima-indians-diabetes.csv\",skiprows=9,header=None);\n",
    "x = data.iloc[:,0:8];\n",
    "y = data.iloc[:,-1];\n",
    "\n",
    "x_lda = lda.fit_transform(x, y);\n",
    "acc = [];\n",
    "for i in range(10):\n",
    "    x_train,x_test,y_train,y_test = train_test_split(x_lda,y,test_size=0.5);\n",
    "    MLE =  GaussianNB();\n",
    "    MLE.fit(x_train,y_train);\n",
    "    acc.append(MLE.score(x_test,y_test));\n",
    "print(\"Mean Accuracy \",statistics.mean(acc));\n",
    "print(\"Mean Stdev \",statistics.stdev(acc));\n",
    "    "
   ]
  },
  {
   "cell_type": "code",
   "execution_count": null,
   "metadata": {},
   "outputs": [],
   "source": []
  }
 ],
 "metadata": {
  "kernelspec": {
   "display_name": "Python 3",
   "language": "python",
   "name": "python3"
  },
  "language_info": {
   "codemirror_mode": {
    "name": "ipython",
    "version": 3
   },
   "file_extension": ".py",
   "mimetype": "text/x-python",
   "name": "python",
   "nbconvert_exporter": "python",
   "pygments_lexer": "ipython3",
   "version": "3.7.3"
  }
 },
 "nbformat": 4,
 "nbformat_minor": 2
}
