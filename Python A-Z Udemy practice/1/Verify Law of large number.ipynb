{
 "cells": [
  {
   "cell_type": "markdown",
   "metadata": {},
   "source": [
    "---\n",
    "# Homework script to verify law of large number\n",
    "#LLN says that sample mean will converge to expected mean on increasing the input size\n",
    "#Example probability of getting 7:3 Head:Tail will converge to 5:5 on 10,000 #input i.e on larger size\n",
    "___"
   ]
  },
  {
   "cell_type": "code",
   "execution_count": 54,
   "metadata": {},
   "outputs": [
    {
     "name": "stdout",
     "output_type": "stream",
     "text": [
      "0.685405446136815 and 0.31792861991246313\n"
     ]
    }
   ],
   "source": [
    "import numpy as np\n",
    "from numpy.random import randn\n",
    "\n",
    "stdn1 = 0\n",
    "stdn2 = 0\n",
    "sample = 100000\n",
    "for i in range(sample):       #Can also put randn(N) to generate a list of random variables\n",
    "    num = randn()\n",
    "    if(num>-1 and num <1):\n",
    "        stdn1+=1\n",
    "    else:\n",
    "        stdn2+=1\n",
    "\n",
    "for i in randn(sample):       #Can also put randn(N) to generate a list of random variables\n",
    "    if(i>-1 and i <1):\n",
    "        stdn1+=i\n",
    "    else:\n",
    "        stdn2+=i\n",
    "print(stdn1/sample,\"and\", stdn2/sample)"
   ]
  },
  {
   "cell_type": "code",
   "execution_count": null,
   "metadata": {},
   "outputs": [],
   "source": []
  }
 ],
 "metadata": {
  "kernelspec": {
   "display_name": "Python 3",
   "language": "python",
   "name": "python3"
  },
  "language_info": {
   "codemirror_mode": {
    "name": "ipython",
    "version": 3
   },
   "file_extension": ".py",
   "mimetype": "text/x-python",
   "name": "python",
   "nbconvert_exporter": "python",
   "pygments_lexer": "ipython3",
   "version": "3.7.3"
  }
 },
 "nbformat": 4,
 "nbformat_minor": 2
}
