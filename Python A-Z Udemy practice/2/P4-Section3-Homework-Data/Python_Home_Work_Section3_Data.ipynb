{
 "cells": [
  {
   "cell_type": "markdown",
   "metadata": {},
   "source": [
    "# Homework exercise "
   ]
  },
  {
   "cell_type": "code",
   "execution_count": 1,
   "metadata": {},
   "outputs": [],
   "source": [
    "#Data \n",
    "revenue = [14574.49, 7606.46, 8611.41, 9175.41, 8058.65, 8105.44, 11496.28, 9766.09, 10305.32, 14379.96, 10713.97, 15433.50]\n",
    "expenses = [12051.82, 5695.07, 12319.20, 12089.72, 8658.57, 840.20, 3285.73, 5821.12, 6976.93, 16618.61, 10054.37, 3803.96]"
   ]
  },
  {
   "cell_type": "markdown",
   "metadata": {},
   "source": [
    "---\n",
    "#### Profit for each month\n",
    "---"
   ]
  },
  {
   "cell_type": "code",
   "execution_count": 94,
   "metadata": {},
   "outputs": [
    {
     "name": "stdout",
     "output_type": "stream",
     "text": [
      "2522.67\n",
      "1911.39\n",
      "-3707.79\n",
      "-2914.31\n",
      "-599.92\n",
      "7265.24\n",
      "8210.55\n",
      "3944.97\n",
      "3328.39\n",
      "-2238.65\n",
      "659.6\n",
      "11629.54\n"
     ]
    }
   ],
   "source": [
    "#Calculate the profit for each month\n",
    "\n",
    "profit = list(range(len(revenue)))\n",
    "for i in range(len(revenue)):\n",
    "        print(round(revenue[i]-expenses[i],2))"
   ]
  },
  {
   "cell_type": "markdown",
   "metadata": {},
   "source": [
    "---\n",
    "#### Profit after 30% tax for each  month\n",
    "---"
   ]
  },
  {
   "cell_type": "code",
   "execution_count": 56,
   "metadata": {},
   "outputs": [
    {
     "name": "stdout",
     "output_type": "stream",
     "text": [
      "-1849.68\n",
      "-370.55\n",
      "-6291.21\n",
      "-5666.93\n",
      "-3017.52\n",
      "4833.61\n",
      "4761.67\n",
      "1015.14\n",
      "236.79\n",
      "-6552.64\n",
      "-2554.59\n",
      "6999.49\n",
      "[-1849.6769999999997, -370.5479999999998, -6291.213000000002, -5666.933, -3017.5150000000003, 4833.607999999999, 4761.665999999999, 1015.143, 236.79399999999896, -6552.638000000003, -2554.591000000002, 6999.489999999999]\n"
     ]
    }
   ],
   "source": [
    "import numpy as np\n",
    "profit_after_tax = list(range(len(revenue)));\n",
    "for i in range(len(revenue)):\n",
    "    profit_after_tax[i] = revenue[i]*.70 - expenses[i]\n",
    "    print(np.round(profit_after_tax[i], 2))\n",
    "print(profit_after_tax)"
   ]
  },
  {
   "cell_type": "markdown",
   "metadata": {},
   "source": [
    "---\n",
    "#### Profit margin = profit after tax / revenue in % rounded\n",
    "---"
   ]
  },
  {
   "cell_type": "code",
   "execution_count": 63,
   "metadata": {},
   "outputs": [
    {
     "name": "stdout",
     "output_type": "stream",
     "text": [
      "-13\n",
      "-5\n",
      "-73\n",
      "-62\n",
      "-37\n",
      "60\n",
      "41\n",
      "10\n",
      "2\n",
      "-46\n",
      "-24\n",
      "45\n",
      "[-0.12691195369443456, -0.048714908117573716, -0.7305671196702981, -0.6176217738498879, -0.3744442307334356, 0.5963412226850114, 0.41419189511737703, 0.10394569372184774, 0.022977840571665797, -0.45567845807637875, -0.23843551923330028, 0.45352577185991505]\n"
     ]
    }
   ],
   "source": [
    "_profit_margin = list(range(len(revenue)))\n",
    "for i in range(len(revenue)):\n",
    "    _profit_margin[i] = ((revenue[i]*.70 - expenses[i])/revenue[i])\n",
    "    print(round(_profit_margin[i]*100))\n",
    "print(_profit_margin)"
   ]
  },
  {
   "cell_type": "markdown",
   "metadata": {},
   "source": [
    "---\n",
    "Good month is profit after tax > mean of the year\n",
    "---"
   ]
  },
  {
   "cell_type": "code",
   "execution_count": 92,
   "metadata": {},
   "outputs": [
    {
     "name": "stdout",
     "output_type": "stream",
     "text": [
      "year mean -704.7011666666673\n",
      "[-370.5479999999998, 4833.607999999999, 4761.665999999999, 1015.143, 236.79399999999896, 6999.489999999999]\n",
      "[-1849.6769999999997, -6291.213000000002, -5666.933, -3017.5150000000003, -6552.638000000003, -2554.591000000002]\n",
      "best month  6999.489999999999\n",
      "worst month -6552.638000000003\n"
     ]
    }
   ],
   "source": [
    "import numpy as np\n",
    "profit_after_tax = list(range(len(revenue)));\n",
    "good_month = list()\n",
    "for i in range(len(revenue)):\n",
    "    profit_after_tax[i] = revenue[i]*.70 - expenses[i]\n",
    "\n",
    "year_mean = np.mean(profit_after_tax)\n",
    "print(\"year mean\",year_mean)\n",
    "good_month = []\n",
    "bad_month = []\n",
    "\n",
    "\n",
    "for j in range(len(profit_after_tax)):\n",
    "    if (profit_after_tax[j]>year_mean):\n",
    "        good_month.append(profit_after_tax[j])\n",
    "        \n",
    "    else:\n",
    "        bad_month.append(profit_after_tax[j])\n",
    "\n",
    "print(good_month)\n",
    "print(bad_month)\n",
    "\n",
    "print(\"best month \", max(good_month))\n",
    "print(\"worst month\", min(bad_month))"
   ]
  }
 ],
 "metadata": {
  "kernelspec": {
   "display_name": "Python 3",
   "language": "python",
   "name": "python3"
  },
  "language_info": {
   "codemirror_mode": {
    "name": "ipython",
    "version": 3
   },
   "file_extension": ".py",
   "mimetype": "text/x-python",
   "name": "python",
   "nbconvert_exporter": "python",
   "pygments_lexer": "ipython3",
   "version": "3.7.3"
  }
 },
 "nbformat": 4,
 "nbformat_minor": 1
}
