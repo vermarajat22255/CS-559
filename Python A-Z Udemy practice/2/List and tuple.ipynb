{
 "cells": [
  {
   "cell_type": "markdown",
   "metadata": {},
   "source": [
    "---\n",
    "## Lists\n",
    "---"
   ]
  },
  {
   "cell_type": "code",
   "execution_count": 55,
   "metadata": {},
   "outputs": [
    {
     "name": "stdout",
     "output_type": "stream",
     "text": [
      "12.3\n",
      "mean 2\n"
     ]
    },
    {
     "data": {
      "text/plain": [
       "[0, 10, 20, 30, 40, 50, 60, 70, 80, 90, 100]"
      ]
     },
     "execution_count": 55,
     "metadata": {},
     "output_type": "execute_result"
    }
   ],
   "source": [
    "import statistics as st\n",
    "\n",
    "simpleList = [4, \"ABC\", True, 12.3]\n",
    "print(simpleList[3])\n",
    "type(simpleList)\n",
    "\n",
    "list1  = [1,2,3,\"four\"]\n",
    "list2 = [\"five\", 6,7, False]\n",
    "\n",
    "a=[1,2,3]\n",
    "print(\"mean\",st.mean(a))\n",
    "\n",
    "list3 = list1+list2\n",
    "type(list3)\n",
    "list4 = [list3, \"added one more\"]\n",
    "list4\n",
    "\n",
    "list5 = list(range(5))    #range from 0 to 4\n",
    "list5 = list(range(3,5))  # 3 and 4\n",
    "list5\n",
    "\n",
    "list6 = list(range(0, 101, 10)) #step range of 10\n",
    "list6"
   ]
  },
  {
   "cell_type": "markdown",
   "metadata": {},
   "source": [
    "---"
   ]
  },
  {
   "cell_type": "code",
   "execution_count": 59,
   "metadata": {},
   "outputs": [],
   "source": [
    "a = [\"A\",\"B\",\"C\", \"D\", \"E\"]\n",
    "\n",
    "#     0   1    2    3    4\n",
    "\n",
    "#   -5    -4  -3   -2    -1"
   ]
  },
  {
   "cell_type": "code",
   "execution_count": 63,
   "metadata": {},
   "outputs": [
    {
     "name": "stdout",
     "output_type": "stream",
     "text": [
      "True\n"
     ]
    },
    {
     "data": {
      "text/plain": [
       "'E'"
      ]
     },
     "execution_count": 63,
     "metadata": {},
     "output_type": "execute_result"
    }
   ],
   "source": [
    "print(a[4]==a[-1])\n",
    "a[-1]"
   ]
  },
  {
   "cell_type": "code",
   "execution_count": 65,
   "metadata": {},
   "outputs": [
    {
     "data": {
      "text/plain": [
       "['A', 'B', 'replaced value', 'D', 'E']"
      ]
     },
     "execution_count": 65,
     "metadata": {},
     "output_type": "execute_result"
    }
   ],
   "source": [
    "a[2]=\"replaced value\"\n",
    "a"
   ]
  },
  {
   "cell_type": "markdown",
   "metadata": {},
   "source": [
    "---\n",
    "# Slicing \n",
    "---"
   ]
  },
  {
   "cell_type": "markdown",
   "metadata": {},
   "source": [
    "# 0     1      2     3    4     5\n",
    "\n",
    "# A     B      C     D    E     F\n",
    "\n",
    "# -6    -5     -4   -3    -2    -1\n",
    "\n",
    "Last index is not considered in slice"
   ]
  },
  {
   "cell_type": "code",
   "execution_count": 92,
   "metadata": {},
   "outputs": [
    {
     "name": "stdout",
     "output_type": "stream",
     "text": [
      "['a', 'c', 'e']\n",
      "['a', 'c', 'e']\n",
      "['b', 'c', 'd']\n",
      "['a', 'b', 'c', 'd', 'e']\n",
      "[]\n",
      "['f', 'e', 'd', 'c', 'b', 'a']\n",
      "['f', 'e', 'd', 'c', 'b', 'a']\n"
     ]
    }
   ],
   "source": [
    "list1 = [ \"a\", \"b\", \"c\", \"d\", \"e\", \"f\"]\n",
    "\n",
    "print(list1[ 0: 10: 2])  # [start :end :step]\n",
    "print(list1[-6: 10: 2])\n",
    "\n",
    "print(list1[-5: -2: 1]) # last index is ignored\n",
    "\n",
    "print(list1[:5])\n",
    "\n",
    "print(list1[1: 6: -1]) # nothing returned because we have to provide finish to start in opposite way\n",
    "print(list1[::-1])   #Reverse a list\n",
    "print(list1[6::-1]) "
   ]
  },
  {
   "cell_type": "markdown",
   "metadata": {},
   "source": [
    "# Tuples are Immutable lists created by ( ) instead of [ ]"
   ]
  },
  {
   "cell_type": "code",
   "execution_count": 101,
   "metadata": {},
   "outputs": [
    {
     "data": {
      "text/plain": [
       "(1, 2, 3)"
      ]
     },
     "execution_count": 101,
     "metadata": {},
     "output_type": "execute_result"
    }
   ],
   "source": [
    "tup = (1,2,3)\n",
    "#tup[2] = 11  #fails\n",
    "tup"
   ]
  },
  {
   "cell_type": "code",
   "execution_count": 104,
   "metadata": {},
   "outputs": [
    {
     "data": {
      "text/plain": [
       "[1, 2, 3]"
      ]
     },
     "execution_count": 104,
     "metadata": {},
     "output_type": "execute_result"
    }
   ],
   "source": [
    "#convert list to tuple\n",
    "tup2 =tuple(list1)\n",
    "tup2\n",
    "\n",
    "#convert tuple to a list\n",
    "listoftuple = list(tup)\n",
    "listoftuple"
   ]
  },
  {
   "cell_type": "code",
   "execution_count": null,
   "metadata": {},
   "outputs": [],
   "source": []
  }
 ],
 "metadata": {
  "kernelspec": {
   "display_name": "Python 3",
   "language": "python",
   "name": "python3"
  },
  "language_info": {
   "codemirror_mode": {
    "name": "ipython",
    "version": 3
   },
   "file_extension": ".py",
   "mimetype": "text/x-python",
   "name": "python",
   "nbconvert_exporter": "python",
   "pygments_lexer": "ipython3",
   "version": "3.7.3"
  }
 },
 "nbformat": 4,
 "nbformat_minor": 2
}
