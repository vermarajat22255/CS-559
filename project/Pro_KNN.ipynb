{
 "cells": [
  {
   "cell_type": "code",
   "execution_count": 10,
   "metadata": {},
   "outputs": [
    {
     "name": "stdout",
     "output_type": "stream",
     "text": [
      "Train Accuracy 0.8279320090598417\n",
      "Test Accuracy 0.7331375322976216\n",
      "Stdev of accuracy on Train 0.010071251834459945\n",
      "Stdev of accuracy on Test 0.016499699283936103\n"
     ]
    },
    {
     "data": {
      "text/plain": [
       "Text(0.5, 1.0, 'KNN Classifier')"
      ]
     },
     "execution_count": 10,
     "metadata": {},
     "output_type": "execute_result"
    },
    {
     "data": {
      "image/png": "[encoded data removed]",
      "text/plain": [
       "<Figure size 288x288 with 1 Axes>"
      ]
     },
     "metadata": {
      "needs_background": "light"
     },
     "output_type": "display_data"
    }
   ],
   "source": [
    "import pandas as pd\n",
    "import numpy as np\n",
    "import random as rd\n",
    "from sklearn.neighbors import KNeighborsClassifier\n",
    "from sklearn.model_selection import train_test_split\n",
    "import statistics\n",
    "from sklearn.metrics import accuracy_score\n",
    "from sklearn.decomposition import PCA\n",
    "from sklearn.preprocessing import StandardScaler\n",
    "scaler=StandardScaler()\n",
    "import matplotlib.pyplot as plt\n",
    "import os\n",
    "\n",
    "def PCA(data):\n",
    "    '''\n",
    "    Input: data\n",
    "    output: Eigen Value-Vector pair, variance explained by components\n",
    "    '''\n",
    "    #Calculating Eigen values and Eigen vectors \n",
    "    values,vectors=np.linalg.eig(data.cov())\n",
    "    # binding values and vector in a tuple\n",
    "    eig_pairs = [(np.abs(values[i]), vectors[:,i]) for i in range(len(values))]\n",
    "    #soring according to larger Eigen Values\n",
    "    eig_pairs.sort(key=lambda x: x[0], reverse=True)\n",
    "    # Variance explaied \n",
    "    var_exp = [(i / sum(values))*100 for i in sorted(values, reverse=True)]\n",
    "    variance_exp=np.cumsum(var_exp)\n",
    "    return eig_pairs,variance_exp\n",
    "\n",
    "def PCA_transform(data,eig_pairs,k):\n",
    "    '''\n",
    "    Input: data,Eigen Value-Vector pair from PCA(), # principle components to use\n",
    "    output : transformed data\n",
    "    '''\n",
    "    W=[]\n",
    "    for i in range(k):\n",
    "        W.append(eig_pairs[i][1])\n",
    "    W=np.array(W)\n",
    "    \n",
    "    return np.dot(data,W.T)\n",
    "\n",
    "data = pd.read_csv('avila-tr.txt', sep=\",\", header=None)\n",
    "total_samples=data.shape[0]\n",
    "#print(total_samples)\n",
    "\n",
    "x = data.iloc[:,0:10];\n",
    "y = data.iloc[:,-1];\n",
    "\n",
    "acc_train=[];\n",
    "acc_test = [];\n",
    "trainsize = [0.10,0.20,0.30,0.40,0.50]\n",
    "\n",
    "knn = KNeighborsClassifier;\n",
    "\n",
    " #scaling\n",
    "scaler.fit(x)\n",
    "x =pd.DataFrame(scaler.transform(x),index=x.index , columns=x.columns)\n",
    "#train_df_sc has 9 columns\n",
    "\n",
    "#PCA\n",
    "eig_pairs,variance_exp = PCA(x)\n",
    "\n",
    "#PCA transformation\n",
    "x =PCA_transform(x,eig_pairs,8)\n",
    "\n",
    "for i in trainsize:\n",
    "    x_train,x_test,y_train,y_test = train_test_split(x,y,test_size=i)\n",
    "\n",
    "    knnclass = knn(n_neighbors=5)\n",
    "    knnclass.fit(x_train,y_train)\n",
    "    acc_test.append(knnclass.score(x_test,y_test));\n",
    "    acc_train.append(knnclass.score(x_train,y_train))\n",
    "\n",
    "print(\"Train Accuracy\",statistics.mean(acc_train));\n",
    "print(\"Test Accuracy\",statistics.mean(acc_test));\n",
    "\n",
    "print(\"Stdev of accuracy on Train\",statistics.stdev(acc_train));\n",
    "print(\"Stdev of accuracy on Test\",statistics.stdev(acc_test));\n",
    "\n",
    "fig = plt.figure(figsize=(4,4))\n",
    "ax = fig.add_subplot(1, 1, 1)\n",
    "plt.scatter(trainsize,acc_train,color='blue')\n",
    "plt.plot(trainsize,acc_train,color='blue',label ='KNN')\n",
    "plt.legend()\n",
    "plt.xlabel('training size')\n",
    "plt.ylabel('accuracy')\n",
    "plt.title('KNN Classifier')"
   ]
  },
  {
   "cell_type": "code",
   "execution_count": null,
   "metadata": {},
   "outputs": [],
   "source": []
  }
 ],
 "metadata": {
  "kernelspec": {
   "display_name": "Python 3",
   "language": "python",
   "name": "python3"
  },
  "language_info": {
   "codemirror_mode": {
    "name": "ipython",
    "version": 3
   },
   "file_extension": ".py",
   "mimetype": "text/x-python",
   "name": "python",
   "nbconvert_exporter": "python",
   "pygments_lexer": "ipython3",
   "version": "3.7.3"
  }
 },
 "nbformat": 4,
 "nbformat_minor": 2
}
