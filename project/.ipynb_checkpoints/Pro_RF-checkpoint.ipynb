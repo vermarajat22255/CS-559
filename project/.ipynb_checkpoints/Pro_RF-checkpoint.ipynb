{
 "cells": [
  {
   "cell_type": "code",
   "execution_count": 2,
   "metadata": {},
   "outputs": [
    {
     "name": "stdout",
     "output_type": "stream",
     "text": [
      "Mean Accuracy Train 0.9915623175007864\n",
      "Mean stdev of accuracy on Train 0.0022011200181029297\n",
      "Mean Accuracy Test 0.9584263432612611\n",
      "Mean stdev of accuracy on Test 0.008891213748538216\n"
     ]
    },
    {
     "data": {
      "text/plain": [
       "Text(0.5, 1.0, 'RF Classifier')"
      ]
     },
     "execution_count": 2,
     "metadata": {},
     "output_type": "execute_result"
    },
    {
     "data": {
      "image/png": "[encoded data removed]",
      "text/plain": [
       "<Figure size 288x288 with 1 Axes>"
      ]
     },
     "metadata": {
      "needs_background": "light"
     },
     "output_type": "display_data"
    }
   ],
   "source": [
    "import pandas as pd\n",
    "import numpy as np\n",
    "import random as rd\n",
    "from sklearn.model_selection import train_test_split\n",
    "import statistics\n",
    "from sklearn.metrics import accuracy_score\n",
    "from sklearn.preprocessing import StandardScaler\n",
    "from sklearn.ensemble import RandomForestRegressor\n",
    "from sklearn import preprocessing\n",
    "scaler=StandardScaler()\n",
    "import matplotlib.pyplot as plt\n",
    "import os\n",
    "\n",
    "data = pd.read_csv('avila-tr.txt', sep=\",\", header=None)\n",
    "num_samples=data.shape[0]\n",
    "\n",
    "x = data.iloc[:,0:10];\n",
    "y = data.iloc[:,-1];\n",
    "\n",
    "acc_test = [];\n",
    "acc_train = [];\n",
    "trainsize = [0.10,0.20,0.30,0.40,0.50];\n",
    "\n",
    "#label encoding\n",
    "le = preprocessing.LabelEncoder()\n",
    "y=le.fit_transform(y)\n",
    "\n",
    "for i in trainsize:\n",
    "    x_train,x_test,y_train,y_test = train_test_split(x,y,test_size=i)\n",
    "    rf = RandomForestRegressor(n_estimators = 10)\n",
    "    rf.fit(x_train, y_train)\n",
    "    acc_train.append(rf.score(x_train,y_train))\n",
    "    acc_test.append(rf.score(x_test,y_test))\n",
    "\n",
    "print(\"Mean Accuracy Train\",statistics.mean(acc_train));\n",
    "print(\"Mean stdev of accuracy on Train\",statistics.stdev(acc_train));\n",
    "print(\"Mean Accuracy Test\",statistics.mean(acc_test));\n",
    "print(\"Mean stdev of accuracy on Test\",statistics.stdev(acc_test));\n",
    "\n",
    "fig = plt.figure(figsize=(4,4))\n",
    "ax = fig.add_subplot(1, 1, 1)\n",
    "plt.scatter(trainsize,acc_train,color='blue')\n",
    "plt.plot(trainsize,acc_train,color='blue',label ='Random Forest')\n",
    "plt.legend()\n",
    "plt.xlabel('training size')\n",
    "plt.ylabel('accuracy')\n",
    "plt.title('RF Classifier')"
   ]
  },
  {
   "cell_type": "code",
   "execution_count": null,
   "metadata": {},
   "outputs": [],
   "source": []
  }
 ],
 "metadata": {
  "kernelspec": {
   "display_name": "Python 3",
   "language": "python",
   "name": "python3"
  },
  "language_info": {
   "codemirror_mode": {
    "name": "ipython",
    "version": 3
   },
   "file_extension": ".py",
   "mimetype": "text/x-python",
   "name": "python",
   "nbconvert_exporter": "python",
   "pygments_lexer": "ipython3",
   "version": "3.7.3"
  }
 },
 "nbformat": 4,
 "nbformat_minor": 2
}
