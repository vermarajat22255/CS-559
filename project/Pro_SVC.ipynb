{
 "cells": [
  {
   "cell_type": "code",
   "execution_count": 6,
   "metadata": {},
   "outputs": [
    {
     "name": "stdout",
     "output_type": "stream",
     "text": [
      "Mean Accuracy Train 0.7164386023075037\n",
      "Mean stdev of accuracy on Train 0.006150483424158916\n",
      "Mean Accuracy Test 0.707271728896773\n",
      "Mean stdev of accuracy on Test 0.010837749797792551\n"
     ]
    },
    {
     "data": {
      "text/plain": [
       "Text(0.5, 1.0, 'Kernel SVM Classifier')"
      ]
     },
     "execution_count": 6,
     "metadata": {},
     "output_type": "execute_result"
    },
    {
     "data": {
      "image/png": "[encoded data removed]",
      "text/plain": [
       "<Figure size 288x288 with 1 Axes>"
      ]
     },
     "metadata": {
      "needs_background": "light"
     },
     "output_type": "display_data"
    }
   ],
   "source": [
    "import pandas as pd\n",
    "import numpy as np\n",
    "import random as rd\n",
    "from sklearn.model_selection import train_test_split\n",
    "import statistics\n",
    "from sklearn.preprocessing import StandardScaler\n",
    "from sklearn.svm import SVC\n",
    "scaler=StandardScaler()\n",
    "from sklearn.metrics import accuracy_score\n",
    "import matplotlib.pyplot as plt\n",
    "import os\n",
    "\n",
    "def PCA(data):\n",
    "    '''\n",
    "    Input: data\n",
    "    output: Eigen Value-Vector pair, variance explained by components\n",
    "    '''\n",
    "    #Calculating Eigen values and Eigen vectors \n",
    "    values,vectors=np.linalg.eig(data.cov())\n",
    "    # binding values and vector in a tuple\n",
    "    eig_pairs = [(np.abs(values[i]), vectors[:,i]) for i in range(len(values))]\n",
    "    #soring according to larger Eigen Values\n",
    "    eig_pairs.sort(key=lambda x: x[0], reverse=True)\n",
    "    # Variance explaied \n",
    "    var_exp = [(i / sum(values))*100 for i in sorted(values, reverse=True)]\n",
    "    variance_exp=np.cumsum(var_exp)\n",
    "    return eig_pairs,variance_exp\n",
    "\n",
    "def PCA_transform(data,eig_pairs,k):\n",
    "    '''\n",
    "    Input: data,Eigen Value-Vector pair from PCA(), # principle components to use\n",
    "    output : transformed data\n",
    "    '''\n",
    "    W=[]\n",
    "    for i in range(k):\n",
    "        W.append(eig_pairs[i][1])\n",
    "    W=np.array(W)\n",
    "    \n",
    "    return np.dot(data,W.T)\n",
    "\n",
    "\n",
    "data = pd.read_csv('avila-tr.txt', sep=\",\", header=None)\n",
    "num_samples=data.shape[0]\n",
    "\n",
    "x = data.iloc[:,0:10];\n",
    "y = data.iloc[:,-1];\n",
    "classes = [\"A\",\"B\",\"C\",\"D\",\"E\",\"F\",\"G\",\"H\",\"I\",\"W\",\"X\",\"Y\"]\n",
    "y =y.apply(classes.index);\n",
    "trainsize = [0.10,0.20,0.30,0.40,0.50]\n",
    "\n",
    "acc_train = [];\n",
    "acc_test = [];\n",
    "\n",
    "#scaling\n",
    "scaler.fit(x)\n",
    "x_sc =pd.DataFrame(scaler.transform(x),index=x.index , columns=x.columns)\n",
    "#train_df_sc has 9 columns\n",
    "\n",
    "#PCA\n",
    "eig_pairs,variance_exp = PCA(x_sc)\n",
    "\n",
    "#PCA transformation\n",
    "x_transformed =PCA_transform(x_sc,eig_pairs,8)\n",
    "    \n",
    "for i in trainsize:\n",
    "    x_train,x_test,y_train,y_test = train_test_split(x_transformed,y,test_size=i)\n",
    "\n",
    "    clf = SVC(kernel='rbf',gamma=\"auto\")\n",
    "    model = clf.fit(x_train, y_train)\n",
    "    acc_train.append(clf.score(x_train,y_train))\n",
    "    acc_test.append(clf.score(x_test,y_test))\n",
    "    \n",
    "print(\"Mean Accuracy Train\",statistics.mean(acc_train));\n",
    "print(\"Mean stdev of accuracy on Train\",statistics.stdev(acc_train));\n",
    "print(\"Mean Accuracy Test\",statistics.mean(acc_test));\n",
    "print(\"Mean stdev of accuracy on Test\",statistics.stdev(acc_test));\n",
    "\n",
    "\n",
    "fig = plt.figure(figsize=(4,4))\n",
    "ax = fig.add_subplot(1, 1, 1)\n",
    "plt.scatter(trainsize,acc_train,color='green')\n",
    "plt.plot(trainsize,acc_train,color='green',label ='Classifier')\n",
    "plt.legend()\n",
    "plt.axis([0,0.6,0.49,0.80])\n",
    "plt.xlabel('training size')\n",
    "plt.ylabel('accuracy')\n",
    "plt.title('Kernel SVM Classifier')"
   ]
  },
  {
   "cell_type": "code",
   "execution_count": null,
   "metadata": {},
   "outputs": [],
   "source": []
  }
 ],
 "metadata": {
  "kernelspec": {
   "display_name": "Python 3",
   "language": "python",
   "name": "python3"
  },
  "language_info": {
   "codemirror_mode": {
    "name": "ipython",
    "version": 3
   },
   "file_extension": ".py",
   "mimetype": "text/x-python",
   "name": "python",
   "nbconvert_exporter": "python",
   "pygments_lexer": "ipython3",
   "version": "3.7.3"
  }
 },
 "nbformat": 4,
 "nbformat_minor": 2
}
