{
 "cells": [
  {
   "cell_type": "code",
   "execution_count": 2,
   "metadata": {},
   "outputs": [
    {
     "name": "stdout",
     "output_type": "stream",
     "text": [
      "0.75\n",
      "0.015234313172555768\n",
      "GaussianNB(priors=None, var_smoothing=1e-09)\n"
     ]
    }
   ],
   "source": [
    "import pandas as pd\n",
    "import numpy as np\n",
    "import random as rd\n",
    "from sklearn.naive_bayes import GaussianNB\n",
    "from sklearn.model_selection import train_test_split\n",
    "import statistics\n",
    "\n",
    "data  = pd.read_csv(\"pima-indians-diabetes.csv\");\n",
    "cols = data.iloc[:,1:4];\n",
    "y = data.iloc[:,-1];\n",
    "acc = [];\n",
    "for i in range(10):\n",
    "    x_train,x_test,y_train,y_test = train_test_split(cols,y,test_size=0.5)\n",
    "    MLE =  GaussianNB();\n",
    "    MLE.fit(x_train,y_train);\n",
    "    acc.append(MLE.score(x_test,y_test));\n",
    "print(statistics.mean(acc));\n",
    "print(statistics.stdev(acc));"
   ]
  },
  {
   "cell_type": "code",
   "execution_count": null,
   "metadata": {},
   "outputs": [],
   "source": []
  },
  {
   "cell_type": "code",
   "execution_count": null,
   "metadata": {},
   "outputs": [],
   "source": []
  }
 ],
 "metadata": {
  "kernelspec": {
   "display_name": "Python 3",
   "language": "python",
   "name": "python3"
  },
  "language_info": {
   "codemirror_mode": {
    "name": "ipython",
    "version": 3
   },
   "file_extension": ".py",
   "mimetype": "text/x-python",
   "name": "python",
   "nbconvert_exporter": "python",
   "pygments_lexer": "ipython3",
   "version": "3.7.3"
  }
 },
 "nbformat": 4,
 "nbformat_minor": 2
}
