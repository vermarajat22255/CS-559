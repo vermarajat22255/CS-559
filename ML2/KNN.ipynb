{
 "cells": [
  {
   "cell_type": "code",
   "execution_count": 7,
   "metadata": {},
   "outputs": [
    {
     "name": "stdout",
     "output_type": "stream",
     "text": [
      "0.7231770833333333\n",
      "0.0215113204343365\n"
     ]
    }
   ],
   "source": [
    "import pandas as pd\n",
    "import numpy as np\n",
    "import random as rd\n",
    "import statistics\n",
    "from sklearn.neighbors import KNeighborsClassifier\n",
    "from sklearn.model_selection import train_test_split\n",
    "\n",
    "knn = KNeighborsClassifier;\n",
    "\n",
    "data  = pd.read_csv(\"pima-indians-diabetes.csv\");\n",
    "cols = data.iloc[:,1:4];\n",
    "y = data.iloc[:,-1];\n",
    "acc = [];\n",
    "for i in range(10):\n",
    "    x_train,x_test,y_train,y_test = train_test_split(cols,y,test_size=0.5)\n",
    "    knnclass = knn(n_neighbors=11)\n",
    "    knnclass.fit(x_train,y_train)\n",
    "    acc.append(knnclass.score(x_test,y_test));\n",
    "print(statistics.mean(acc));\n",
    "print(statistics.stdev(acc));"
   ]
  },
  {
   "cell_type": "code",
   "execution_count": null,
   "metadata": {},
   "outputs": [],
   "source": []
  }
 ],
 "metadata": {
  "kernelspec": {
   "display_name": "Python 3",
   "language": "python",
   "name": "python3"
  },
  "language_info": {
   "codemirror_mode": {
    "name": "ipython",
    "version": 3
   },
   "file_extension": ".py",
   "mimetype": "text/x-python",
   "name": "python",
   "nbconvert_exporter": "python",
   "pygments_lexer": "ipython3",
   "version": "3.7.3"
  }
 },
 "nbformat": 4,
 "nbformat_minor": 2
}
